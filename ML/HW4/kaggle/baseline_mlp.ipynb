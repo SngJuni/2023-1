{
 "cells": [
  {
   "cell_type": "code",
   "execution_count": 172,
   "metadata": {},
   "outputs": [],
   "source": [
    "import numpy as np\n",
    "import pandas as pd\n",
    "import torch\n",
    "import torch.nn as nn\n",
    "import torch.optim as optim\n",
    "from torch.utils.data import DataLoader, TensorDataset, WeightedRandomSampler\n",
    "from sklearn.model_selection import train_test_split\n",
    "from collections import Counter"
   ]
  },
  {
   "cell_type": "code",
   "execution_count": 173,
   "metadata": {},
   "outputs": [],
   "source": [
    "train_X = np.load('./data/fashion_mnist/train_x.npy')\n",
    "train_y = np.load('./data/fashion_mnist/train_y.npy')\n",
    "valid_X = np.load('./data/fashion_mnist/valid_x.npy')\n",
    "valid_y = np.load('./data/fashion_mnist/valid_y.npy')\n",
    "\n",
    "test_X = np.load('./data/fashion_mnist/test_x.npy')"
   ]
  },
  {
   "cell_type": "code",
   "execution_count": 174,
   "metadata": {},
   "outputs": [
    {
     "name": "stdout",
     "output_type": "stream",
     "text": [
      "# of class (trian): Counter({0: 6000, 9: 5400, 8: 4200, 7: 3000, 6: 1200, 5: 600, 1: 300, 2: 300, 3: 300, 4: 300})\n",
      "# of class (test): Counter({0: 100, 1: 100, 2: 100, 3: 100, 4: 100, 5: 100, 6: 100, 7: 100, 8: 100, 9: 100})\n"
     ]
    }
   ],
   "source": [
    "print('# of class (trian):', Counter(train_y))\n",
    "print('# of class (test):',Counter(valid_y))"
   ]
  },
  {
   "cell_type": "code",
   "execution_count": 175,
   "metadata": {},
   "outputs": [],
   "source": [
    "train_images, train_labels = train_X, train_y\n",
    "valid_images, valid_labels = valid_X, valid_y\n",
    "\n",
    "test_images = test_X\n",
    "\n",
    "# Preprocess the dataset (normalize and convert to tensors)\n",
    "train_images, valid_images = train_images / 255.0, valid_images / 255.0\n",
    "test_images = test_images / 255.0"
   ]
  },
  {
   "cell_type": "code",
   "execution_count": 176,
   "metadata": {},
   "outputs": [],
   "source": [
    "train_images = torch.tensor(train_images, dtype=torch.float32).reshape(-1, 28*28)\n",
    "train_labels = torch.tensor(train_labels, dtype=torch.long)\n",
    "valid_images = torch.tensor(valid_images, dtype=torch.float32).reshape(-1, 28*28)\n",
    "valid_labels = torch.tensor(valid_labels, dtype=torch.long)\n",
    "\n",
    "test_images = torch.Tensor(test_images).reshape(-1, 28*28)"
   ]
  },
  {
   "cell_type": "code",
   "execution_count": 177,
   "metadata": {},
   "outputs": [],
   "source": [
    "# Create DataLoader for training and test sets\n",
    "\n",
    "class_weights = [0.6, 0.3, 0.1]\n",
    "targets = train_labels.tolist()\n",
    "\n",
    "class_data_count = np.array([len(np.where(targets == t)[0]) for t in np.unique(targets)])\n",
    "weight = 1.0 / class_data_count\n",
    "\n",
    "balanced_weight = np.array([weight[t] for t in targets])\n",
    "balanced_weight = torch.from_numpy(balanced_weight)\n",
    "sampler = WeightedRandomSampler(balanced_weight, len(balanced_weight))\n",
    "\n",
    "train_dataset = TensorDataset(train_images, train_labels)\n",
    "valid_dataset = TensorDataset(valid_images, valid_labels)\n",
    "\n",
    "train_loader = DataLoader(train_dataset, batch_size=64,shuffle=False, sampler=sampler)\n",
    "valid_loader = DataLoader(valid_dataset, batch_size=64, shuffle=False)"
   ]
  },
  {
   "cell_type": "code",
   "execution_count": 178,
   "metadata": {},
   "outputs": [],
   "source": [
    "# Create the model\n",
    "from MLP import MLP_classifier\n",
    "input_size = 28*28\n",
    "num_classes = 10\n",
    "model = MLP_classifier(input_size, num_classes)"
   ]
  },
  {
   "cell_type": "code",
   "execution_count": 179,
   "metadata": {},
   "outputs": [],
   "source": [
    "# Set up the loss function and optimizer\n",
    "criterion = nn.CrossEntropyLoss()\n",
    "optimizer = optim.Adam(model.parameters(), lr=0.001)"
   ]
  },
  {
   "cell_type": "code",
   "execution_count": 180,
   "metadata": {},
   "outputs": [
    {
     "name": "stdout",
     "output_type": "stream",
     "text": [
      "Epoch [1/50], Loss: 1.7021\n",
      "Accuracy: 76.60%\n",
      "Epoch [2/50], Loss: 1.5729\n",
      "Accuracy: 79.20%\n",
      "Epoch [3/50], Loss: 1.5347\n",
      "Accuracy: 79.70%\n",
      "Epoch [4/50], Loss: 1.6165\n",
      "Accuracy: 81.30%\n",
      "Epoch [5/50], Loss: 1.5407\n",
      "Accuracy: 80.80%\n",
      "Epoch [6/50], Loss: 1.6307\n",
      "Accuracy: 81.70%\n",
      "Epoch [7/50], Loss: 1.6257\n",
      "Accuracy: 81.30%\n",
      "Epoch [8/50], Loss: 1.6250\n",
      "Accuracy: 80.50%\n",
      "Epoch [9/50], Loss: 1.6505\n",
      "Accuracy: 79.80%\n",
      "Epoch [10/50], Loss: 1.5235\n",
      "Accuracy: 81.80%\n",
      "Epoch [11/50], Loss: 1.5239\n",
      "Accuracy: 82.20%\n",
      "Epoch [12/50], Loss: 1.5706\n",
      "Accuracy: 81.60%\n",
      "Epoch [13/50], Loss: 1.5507\n",
      "Accuracy: 83.50%\n",
      "Epoch [14/50], Loss: 1.6453\n",
      "Accuracy: 82.70%\n",
      "Epoch [15/50], Loss: 1.5865\n",
      "Accuracy: 82.50%\n",
      "Epoch [16/50], Loss: 1.5540\n",
      "Accuracy: 83.30%\n",
      "Epoch [17/50], Loss: 1.5539\n",
      "Accuracy: 81.20%\n",
      "Epoch [18/50], Loss: 1.6171\n",
      "Accuracy: 82.00%\n",
      "Epoch [19/50], Loss: 1.6367\n",
      "Accuracy: 81.40%\n",
      "Epoch [20/50], Loss: 1.5491\n",
      "Accuracy: 81.70%\n",
      "Epoch [21/50], Loss: 1.6049\n",
      "Accuracy: 82.60%\n",
      "Epoch [22/50], Loss: 1.5434\n",
      "Accuracy: 83.30%\n",
      "Epoch [23/50], Loss: 1.6472\n",
      "Accuracy: 82.40%\n",
      "Epoch [24/50], Loss: 1.6163\n",
      "Accuracy: 82.00%\n",
      "Epoch [25/50], Loss: 1.5257\n",
      "Accuracy: 82.40%\n",
      "Epoch [26/50], Loss: 1.5834\n",
      "Accuracy: 82.80%\n",
      "Epoch [27/50], Loss: 1.4612\n",
      "Accuracy: 82.80%\n",
      "Epoch [28/50], Loss: 1.5800\n",
      "Accuracy: 84.50%\n",
      "Epoch [29/50], Loss: 1.5855\n",
      "Accuracy: 83.50%\n",
      "Epoch [30/50], Loss: 1.6174\n",
      "Accuracy: 83.70%\n",
      "Epoch [31/50], Loss: 1.5881\n",
      "Accuracy: 82.20%\n",
      "Epoch [32/50], Loss: 1.5859\n",
      "Accuracy: 83.20%\n",
      "Epoch [33/50], Loss: 1.5870\n",
      "Accuracy: 82.80%\n",
      "Epoch [34/50], Loss: 1.5549\n",
      "Accuracy: 83.50%\n",
      "Epoch [35/50], Loss: 1.5587\n",
      "Accuracy: 83.60%\n",
      "Epoch [36/50], Loss: 1.4924\n",
      "Accuracy: 83.80%\n",
      "Epoch [37/50], Loss: 1.5550\n",
      "Accuracy: 82.20%\n",
      "Epoch [38/50], Loss: 1.5862\n",
      "Accuracy: 83.30%\n",
      "Epoch [39/50], Loss: 1.6206\n",
      "Accuracy: 83.30%\n",
      "Epoch [40/50], Loss: 1.5509\n",
      "Accuracy: 81.80%\n",
      "Epoch [41/50], Loss: 1.5237\n",
      "Accuracy: 83.40%\n",
      "Epoch [42/50], Loss: 1.5549\n",
      "Accuracy: 82.50%\n",
      "Epoch [43/50], Loss: 1.5549\n",
      "Accuracy: 81.10%\n",
      "Epoch [44/50], Loss: 1.5549\n",
      "Accuracy: 82.00%\n",
      "Epoch [45/50], Loss: 1.4924\n",
      "Accuracy: 83.10%\n",
      "Epoch [46/50], Loss: 1.5237\n",
      "Accuracy: 82.30%\n",
      "Epoch [47/50], Loss: 1.5861\n",
      "Accuracy: 84.30%\n",
      "Epoch [48/50], Loss: 1.6014\n",
      "Accuracy: 83.90%\n",
      "Epoch [49/50], Loss: 1.5581\n",
      "Accuracy: 83.40%\n",
      "Epoch [50/50], Loss: 1.5210\n",
      "Accuracy: 84.40%\n"
     ]
    }
   ],
   "source": [
    "# Train the model using the train method\n",
    "num_epochs = 50\n",
    "model.train(train_loader, valid_loader, criterion, optimizer, num_epochs)"
   ]
  },
  {
   "cell_type": "code",
   "execution_count": 181,
   "metadata": {},
   "outputs": [],
   "source": [
    "test_output = model.forward(test_images)\n",
    "_, predicted = torch.max(test_output, 1)"
   ]
  },
  {
   "cell_type": "code",
   "execution_count": 182,
   "metadata": {},
   "outputs": [],
   "source": [
    "result = pd.DataFrame({\"index\":np.arange(len(predicted)), \"label\": predicted})"
   ]
  },
  {
   "cell_type": "code",
   "execution_count": 183,
   "metadata": {},
   "outputs": [],
   "source": [
    "result.to_csv(\"result.csv\", index=None)"
   ]
  }
 ],
 "metadata": {
  "kernelspec": {
   "display_name": "Python 3",
   "language": "python",
   "name": "python3"
  },
  "language_info": {
   "codemirror_mode": {
    "name": "ipython",
    "version": 3
   },
   "file_extension": ".py",
   "mimetype": "text/x-python",
   "name": "python",
   "nbconvert_exporter": "python",
   "pygments_lexer": "ipython3",
   "version": "3.9.7"
  },
  "orig_nbformat": 4
 },
 "nbformat": 4,
 "nbformat_minor": 2
}
